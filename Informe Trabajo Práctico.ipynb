{
 "cells": [
  {
   "cell_type": "markdown",
   "metadata": {},
   "source": [
    "# Trabajo práctico Python\n",
    "## Escuela Politécnica Nacional\n",
    "### Estefanni Carpio\n",
    "\n",
    "**Acerca de los datos**\n",
    "\n",
    "La base de datos que se ha utilizado para este trabajo son referentes a la tasa de deserción escolar. Los datos que constan en esta base son los porcentajes de estudiantes que abandonan el sistema educativo antes de finalizar el año lectivo. El cálculo se hace con el cruce entre los diferentes cortes de matrícula entre años; ejemplo: corte oficial de matrícula del 31 de octubre de 2016 y corte oficial de matrícula del 31 de marzo del 2017, para el cálculo de deserción 2017. Esta base puede ser obtenida a través de https://www.datos.gov.co/Educaci-n/Tasa-Desercion/cx2h-am2v/data. Aquí se encuentran los porcentajes de deserción escolar de algunos de los municipio del departamento de Risaralda en Colombia. Se han utilizado estos datos pues no se halló una base de datos disponible para Ecuador.\n",
    "\n",
    "El departamento Risaralda tenía en el año 2018 un total\t967 780 habitantes y una densidad poblacional de 266,96 hab/km². Los municipios que se estudiarán son: Apía, Balboa, Belén de Umbría, Guática, La Celia, La Virginia, Marsella, Mistrató, Pueblo Rico, Quinchía, Santa Rosa de Cabal, Santuario, Risaralda.\n",
    "Los años de estudio serán desde 2011 hasta 2018. \n",
    "\n",
    "\n"
   ]
  },
  {
   "cell_type": "markdown",
   "metadata": {},
   "source": [
    "Vamos a importar las librerías necesarias para trabajar con la base de datos que tenemos. Para lo que usamos:\n",
    "\n",
    "```python\n",
    "import numpy as np \n",
    "import pandas as pd\n",
    "```"
   ]
  },
  {
   "cell_type": "markdown",
   "metadata": {},
   "source": [
    "Posteriormente leemos la base de datos `.csv`."
   ]
  },
  {
   "cell_type": "code",
   "execution_count": 14,
   "metadata": {},
   "outputs": [],
   "source": [
    "data = pd.read_csv('data.csv')"
   ]
  },
  {
   "cell_type": "code",
   "execution_count": 15,
   "metadata": {
    "scrolled": true
   },
   "outputs": [
    {
     "data": {
      "text/html": [
       "<div>\n",
       "<style scoped>\n",
       "    .dataframe tbody tr th:only-of-type {\n",
       "        vertical-align: middle;\n",
       "    }\n",
       "\n",
       "    .dataframe tbody tr th {\n",
       "        vertical-align: top;\n",
       "    }\n",
       "\n",
       "    .dataframe thead th {\n",
       "        text-align: right;\n",
       "    }\n",
       "</style>\n",
       "<table border=\"1\" class=\"dataframe\">\n",
       "  <thead>\n",
       "    <tr style=\"text-align: right;\">\n",
       "      <th></th>\n",
       "      <th>MUNICIPIO</th>\n",
       "      <th>2011</th>\n",
       "      <th>2012</th>\n",
       "      <th>2013</th>\n",
       "      <th>2014</th>\n",
       "      <th>2015</th>\n",
       "      <th>2016</th>\n",
       "      <th>2017</th>\n",
       "      <th>2018</th>\n",
       "    </tr>\n",
       "  </thead>\n",
       "  <tbody>\n",
       "    <tr>\n",
       "      <th>0</th>\n",
       "      <td>APÍA</td>\n",
       "      <td>6.20</td>\n",
       "      <td>5.2</td>\n",
       "      <td>8.8</td>\n",
       "      <td>3.34</td>\n",
       "      <td>1.92</td>\n",
       "      <td>2.09</td>\n",
       "      <td>1.99</td>\n",
       "      <td>1.99</td>\n",
       "    </tr>\n",
       "    <tr>\n",
       "      <th>1</th>\n",
       "      <td>BALBOA</td>\n",
       "      <td>6.78</td>\n",
       "      <td>8.3</td>\n",
       "      <td>9.0</td>\n",
       "      <td>3.60</td>\n",
       "      <td>3.06</td>\n",
       "      <td>1.04</td>\n",
       "      <td>1.58</td>\n",
       "      <td>2.07</td>\n",
       "    </tr>\n",
       "    <tr>\n",
       "      <th>2</th>\n",
       "      <td>BELÉN DE UMBRÍA</td>\n",
       "      <td>7.74</td>\n",
       "      <td>6.5</td>\n",
       "      <td>8.3</td>\n",
       "      <td>3.53</td>\n",
       "      <td>1.65</td>\n",
       "      <td>2.56</td>\n",
       "      <td>1.81</td>\n",
       "      <td>2.37</td>\n",
       "    </tr>\n",
       "    <tr>\n",
       "      <th>3</th>\n",
       "      <td>GUÁTICA</td>\n",
       "      <td>7.71</td>\n",
       "      <td>3.7</td>\n",
       "      <td>3.9</td>\n",
       "      <td>2.76</td>\n",
       "      <td>1.32</td>\n",
       "      <td>1.86</td>\n",
       "      <td>1.28</td>\n",
       "      <td>1.98</td>\n",
       "    </tr>\n",
       "    <tr>\n",
       "      <th>4</th>\n",
       "      <td>LA CELIA</td>\n",
       "      <td>8.21</td>\n",
       "      <td>6.6</td>\n",
       "      <td>6.6</td>\n",
       "      <td>4.41</td>\n",
       "      <td>1.95</td>\n",
       "      <td>2.13</td>\n",
       "      <td>1.16</td>\n",
       "      <td>2.24</td>\n",
       "    </tr>\n",
       "    <tr>\n",
       "      <th>5</th>\n",
       "      <td>LA VIRGINIA</td>\n",
       "      <td>10.54</td>\n",
       "      <td>5.3</td>\n",
       "      <td>6.1</td>\n",
       "      <td>3.82</td>\n",
       "      <td>1.84</td>\n",
       "      <td>2.07</td>\n",
       "      <td>1.51</td>\n",
       "      <td>2.43</td>\n",
       "    </tr>\n",
       "    <tr>\n",
       "      <th>6</th>\n",
       "      <td>MARSELLA</td>\n",
       "      <td>7.34</td>\n",
       "      <td>7.1</td>\n",
       "      <td>9.0</td>\n",
       "      <td>3.62</td>\n",
       "      <td>2.43</td>\n",
       "      <td>3.05</td>\n",
       "      <td>1.89</td>\n",
       "      <td>2.93</td>\n",
       "    </tr>\n",
       "    <tr>\n",
       "      <th>7</th>\n",
       "      <td>MISTRATÓ</td>\n",
       "      <td>4.66</td>\n",
       "      <td>5.2</td>\n",
       "      <td>4.9</td>\n",
       "      <td>5.69</td>\n",
       "      <td>5.29</td>\n",
       "      <td>7.23</td>\n",
       "      <td>1.52</td>\n",
       "      <td>5.32</td>\n",
       "    </tr>\n",
       "    <tr>\n",
       "      <th>8</th>\n",
       "      <td>PUEBLO RICO</td>\n",
       "      <td>7.95</td>\n",
       "      <td>7.2</td>\n",
       "      <td>10.2</td>\n",
       "      <td>3.88</td>\n",
       "      <td>3.58</td>\n",
       "      <td>3.45</td>\n",
       "      <td>1.56</td>\n",
       "      <td>4.48</td>\n",
       "    </tr>\n",
       "    <tr>\n",
       "      <th>9</th>\n",
       "      <td>QUINCHÍA</td>\n",
       "      <td>6.62</td>\n",
       "      <td>4.1</td>\n",
       "      <td>3.9</td>\n",
       "      <td>3.39</td>\n",
       "      <td>1.62</td>\n",
       "      <td>2.54</td>\n",
       "      <td>1.70</td>\n",
       "      <td>1.93</td>\n",
       "    </tr>\n",
       "    <tr>\n",
       "      <th>10</th>\n",
       "      <td>SANTA ROSA DE CABAL</td>\n",
       "      <td>6.26</td>\n",
       "      <td>4.2</td>\n",
       "      <td>6.3</td>\n",
       "      <td>2.85</td>\n",
       "      <td>2.08</td>\n",
       "      <td>2.07</td>\n",
       "      <td>1.57</td>\n",
       "      <td>2.28</td>\n",
       "    </tr>\n",
       "    <tr>\n",
       "      <th>11</th>\n",
       "      <td>SANTUARIO</td>\n",
       "      <td>7.51</td>\n",
       "      <td>5.1</td>\n",
       "      <td>9.7</td>\n",
       "      <td>3.68</td>\n",
       "      <td>2.20</td>\n",
       "      <td>3.58</td>\n",
       "      <td>1.52</td>\n",
       "      <td>2.82</td>\n",
       "    </tr>\n",
       "    <tr>\n",
       "      <th>12</th>\n",
       "      <td>RISARALDA</td>\n",
       "      <td>7.29</td>\n",
       "      <td>5.3</td>\n",
       "      <td>6.8</td>\n",
       "      <td>3.71</td>\n",
       "      <td>2.41</td>\n",
       "      <td>2.81</td>\n",
       "      <td>1.61</td>\n",
       "      <td>2.73</td>\n",
       "    </tr>\n",
       "  </tbody>\n",
       "</table>\n",
       "</div>"
      ],
      "text/plain": [
       "              MUNICIPIO   2011  2012  2013  2014  2015  2016  2017  2018\n",
       "0                  APÍA   6.20   5.2   8.8  3.34  1.92  2.09  1.99  1.99\n",
       "1                BALBOA   6.78   8.3   9.0  3.60  3.06  1.04  1.58  2.07\n",
       "2       BELÉN DE UMBRÍA   7.74   6.5   8.3  3.53  1.65  2.56  1.81  2.37\n",
       "3               GUÁTICA   7.71   3.7   3.9  2.76  1.32  1.86  1.28  1.98\n",
       "4              LA CELIA   8.21   6.6   6.6  4.41  1.95  2.13  1.16  2.24\n",
       "5           LA VIRGINIA  10.54   5.3   6.1  3.82  1.84  2.07  1.51  2.43\n",
       "6              MARSELLA   7.34   7.1   9.0  3.62  2.43  3.05  1.89  2.93\n",
       "7              MISTRATÓ   4.66   5.2   4.9  5.69  5.29  7.23  1.52  5.32\n",
       "8           PUEBLO RICO   7.95   7.2  10.2  3.88  3.58  3.45  1.56  4.48\n",
       "9              QUINCHÍA   6.62   4.1   3.9  3.39  1.62  2.54  1.70  1.93\n",
       "10  SANTA ROSA DE CABAL   6.26   4.2   6.3  2.85  2.08  2.07  1.57  2.28\n",
       "11            SANTUARIO   7.51   5.1   9.7  3.68  2.20  3.58  1.52  2.82\n",
       "12            RISARALDA   7.29   5.3   6.8  3.71  2.41  2.81  1.61  2.73"
      ]
     },
     "execution_count": 15,
     "metadata": {},
     "output_type": "execute_result"
    }
   ],
   "source": [
    "data"
   ]
  },
  {
   "cell_type": "markdown",
   "metadata": {},
   "source": [
    "Queremos saber ¿Cuanto a variado en promedio la tasa de deserción escolar desde el año 2011 al año 2018?"
   ]
  },
  {
   "cell_type": "code",
   "execution_count": 42,
   "metadata": {},
   "outputs": [
    {
     "data": {
      "text/plain": [
       "7.293076923076924"
      ]
     },
     "execution_count": 42,
     "metadata": {},
     "output_type": "execute_result"
    }
   ],
   "source": [
    "data['2011'].mean()"
   ]
  },
  {
   "cell_type": "code",
   "execution_count": 43,
   "metadata": {},
   "outputs": [
    {
     "data": {
      "text/plain": [
       "2.7361538461538464"
      ]
     },
     "execution_count": 43,
     "metadata": {},
     "output_type": "execute_result"
    }
   ],
   "source": [
    "data['2018'].mean()"
   ]
  },
  {
   "cell_type": "markdown",
   "metadata": {},
   "source": [
    "Con lo que tenemos que en promedio la deserción escolar a bajado en un 4.56%.\n",
    "Ahora nos interesa saber la desviación estandar de estos mismos años."
   ]
  },
  {
   "cell_type": "code",
   "execution_count": 56,
   "metadata": {},
   "outputs": [
    {
     "data": {
      "text/plain": [
       "1.358586180651198"
      ]
     },
     "execution_count": 56,
     "metadata": {},
     "output_type": "execute_result"
    }
   ],
   "source": [
    "data['2011'].std()"
   ]
  },
  {
   "cell_type": "code",
   "execution_count": 57,
   "metadata": {},
   "outputs": [
    {
     "data": {
      "text/plain": [
       "1.0273796641743376"
      ]
     },
     "execution_count": 57,
     "metadata": {},
     "output_type": "execute_result"
    }
   ],
   "source": [
    "data['2018'].std()"
   ]
  },
  {
   "cell_type": "markdown",
   "metadata": {},
   "source": [
    "Vemos que la desviación estandar no ha variado mucho, por lo que en general la deserción escolar ha bajado.\n"
   ]
  },
  {
   "cell_type": "markdown",
   "metadata": {},
   "source": [
    "Queremos saber cual es el porcentaje de deserción máximo en en el año 2013."
   ]
  },
  {
   "cell_type": "code",
   "execution_count": 74,
   "metadata": {},
   "outputs": [
    {
     "data": {
      "text/plain": [
       "10.2"
      ]
     },
     "execution_count": 74,
     "metadata": {},
     "output_type": "execute_result"
    }
   ],
   "source": [
    "data['2013'].max()"
   ]
  },
  {
   "cell_type": "markdown",
   "metadata": {},
   "source": [
    "Vemos que el valor máximo de deserción en este año es 10.2%.\n",
    "\n",
    "También nos interesa saber el valor mínimo porcentual que se tuvo en el año 2018."
   ]
  },
  {
   "cell_type": "code",
   "execution_count": 76,
   "metadata": {},
   "outputs": [
    {
     "data": {
      "text/plain": [
       "1.93"
      ]
     },
     "execution_count": 76,
     "metadata": {},
     "output_type": "execute_result"
    }
   ],
   "source": [
    "data['2018'].min()"
   ]
  },
  {
   "cell_type": "markdown",
   "metadata": {},
   "source": [
    "El porcentaje menor que se tuvo en el año 2019 es del 1.93%."
   ]
  },
  {
   "cell_type": "markdown",
   "metadata": {},
   "source": [
    "Queremos saber ¿Cuantos datos tiene la base de datos"
   ]
  },
  {
   "cell_type": "code",
   "execution_count": 97,
   "metadata": {},
   "outputs": [
    {
     "data": {
      "text/plain": [
       "(13,)"
      ]
     },
     "execution_count": 97,
     "metadata": {},
     "output_type": "execute_result"
    }
   ],
   "source": [
    "data.iloc[:,2].shape"
   ]
  },
  {
   "cell_type": "markdown",
   "metadata": {},
   "source": [
    "Con lo que sabemos que tiene 13 datos.\n",
    "\n",
    "Se muestra un diagrama de barras del año 2012"
   ]
  },
  {
   "cell_type": "code",
   "execution_count": 98,
   "metadata": {},
   "outputs": [
    {
     "data": {
      "text/plain": [
       "<BarContainer object of 13 artists>"
      ]
     },
     "execution_count": 98,
     "metadata": {},
     "output_type": "execute_result"
    },
    {
     "data": {
      "image/png": "[encoded data removed]",
      "text/plain": [
       "<Figure size 600x450 with 1 Axes>"
      ]
     },
     "metadata": {
      "needs_background": "light"
     },
     "output_type": "display_data"
    }
   ],
   "source": [
    "plt.bar(np.arange(13),data.iloc[:,2])"
   ]
  }
 ],
 "metadata": {
  "kernelspec": {
   "display_name": "Python 3",
   "language": "python",
   "name": "python3"
  },
  "language_info": {
   "codemirror_mode": {
    "name": "ipython",
    "version": 3
   },
   "file_extension": ".py",
   "mimetype": "text/x-python",
   "name": "python",
   "nbconvert_exporter": "python",
   "pygments_lexer": "ipython3",
   "version": "3.8.5"
  }
 },
 "nbformat": 4,
 "nbformat_minor": 4
}
